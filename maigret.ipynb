{
  "nbformat": 4,
  "nbformat_minor": 0,
  "metadata": {
    "colab": {
      "name": "maigret.ipynb",
      "provenance": [],
      "include_colab_link": true
    },
    "kernelspec": {
      "name": "python3",
      "display_name": "Python 3"
    }
  },
  "cells": [
    {
      "cell_type": "markdown",
      "metadata": {
        "id": "view-in-github",
        "colab_type": "text"
      },
      "source": [
        "<a href=\"https://colab.research.google.com/github/gl0bal01/playbooks/blob/main/maigret.ipynb\" target=\"_parent\"><img src=\"https://colab.research.google.com/assets/colab-badge.svg\" alt=\"Open In Colab\"/></a>"
      ]
    },
    {
      "cell_type": "code",
      "metadata": {
        "id": "8v6PEfyXb0Gx"
      },
      "source": [
        "# clone the repo\n",
        "!git clone https://github.com/soxoj/maigret\n",
        "!pip3 install -r /content/maigret/requirements.txt"
      ],
      "execution_count": null,
      "outputs": []
    },
    {
      "cell_type": "code",
      "metadata": {
        "id": "cXOQUAhDchkl"
      },
      "source": [
        "# help\n",
        "!python3 /content/maigret/maigret.py --help"
      ],
      "execution_count": null,
      "outputs": []
    },
    {
      "cell_type": "code",
      "metadata": {
        "id": "SjDmpN4QGnJu",
        "collapsed": true
      },
      "source": [
        "# search\n",
        "!python3 /content/maigret/maigret.py user"
      ],
      "execution_count": null,
      "outputs": []
    }
  ]
}